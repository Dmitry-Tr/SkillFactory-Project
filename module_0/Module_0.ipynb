{
 "cells": [
  {
   "cell_type": "code",
   "execution_count": 1,
   "metadata": {},
   "outputs": [
    {
     "name": "stdout",
     "output_type": "stream",
     "text": [
      "76\n",
      "Алгоритм угадывает число в среднем за 4 попытки\n",
      "Алгоритму потребовалось попыток: 5\n"
     ]
    }
   ],
   "source": [
    "def guess_number(number):\n",
    "    #Function, that guesses the number and returns the number of tries\n",
    "    minimum = 1\n",
    "    maximum = 100\n",
    "    count = 0 \n",
    "    \n",
    "    predict = int((minimum+maximum)//2)\n",
    "    \n",
    "    while number != predict:\n",
    "        count += 1\n",
    "        if number > predict:\n",
    "            minimum = predict + 1\n",
    "        else:\n",
    "            maximum = predict - 1\n",
    "        predict = int((minimum+maximum)//2)\n",
    "        \n",
    "    return count\n",
    "\n",
    "\n",
    "def avg_speed(repeats):\n",
    "    #Function, that finds an average number of tries\n",
    "    #in a given number of numbers\n",
    "    import numpy as np\n",
    "    all_counts = []\n",
    "    avg_count = 0\n",
    "    \n",
    "    for tries in range(1 , repeats+1):\n",
    "        #Setting a random number in each iteration of a cycle\n",
    "        number = np.random.randint(1,101)\n",
    "        #Filling the all_counts list with the number of tries in each iteration\n",
    "        #using the guess_number function\n",
    "        all_counts.append(guess_number(number))\n",
    "    avg_count = int(np.mean(all_counts))\n",
    "    \n",
    "    print('Алгоритм угадывает число в среднем за' , avg_count , 'попытки')\n",
    "    return avg_count\n",
    "\n",
    "\n",
    "number=int(input())\n",
    "avg_speed(1000)\n",
    "print('Алгоритму потребовалось попыток:', guess_number(number))"
   ]
  },
  {
   "cell_type": "code",
   "execution_count": null,
   "metadata": {},
   "outputs": [],
   "source": []
  }
 ],
 "metadata": {
  "kernelspec": {
   "display_name": "Python 3",
   "language": "python",
   "name": "python3"
  },
  "language_info": {
   "codemirror_mode": {
    "name": "ipython",
    "version": 3
   },
   "file_extension": ".py",
   "mimetype": "text/x-python",
   "name": "python",
   "nbconvert_exporter": "python",
   "pygments_lexer": "ipython3",
   "version": "3.8.3"
  }
 },
 "nbformat": 4,
 "nbformat_minor": 4
}
